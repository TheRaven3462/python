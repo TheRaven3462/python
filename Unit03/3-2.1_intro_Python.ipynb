{
 "cells": [
  {
   "cell_type": "markdown",
   "metadata": {
    "deletable": true,
    "editable": true
   },
   "source": [
    "# Section 2.1: Boolean Expressions and Compound Conditionals\n",
    "* and, or, not\n",
    "* if\n",
    "\n",
    "### Students will be able to: \n",
    "* Describe the fundamental Boolean operators (and, or, not)\n",
    "* Use Boolean operators to combine comparisons\n",
    "* Recognize that different Boolean expressions can yield equal results\n",
    "* Employ combined comparisons to control program flow (i.e. `if` statements)\n"
   ]
  },
  {
   "cell_type": "markdown",
   "metadata": {
    "deletable": true,
    "editable": true
   },
   "source": [
    "---\n",
    "<font size=\"6\" color=\"#00A0B2\"  face=\"verdana\"> <B>Concepts</B></font>  \n",
    "\n",
    "\n",
    "## Boolean Operators\n",
    "\n",
    "[![view video](https://iajupyterprodblobs.blob.core.windows.net/imagecontainer/common/play_video.png)](https://www.youtube.com/watch?v=4VYGElXvaD0)\n",
    "\n",
    "#### `bool` data type\n",
    "Adding two numbers in Python results in another number; however, if two numbers were compared (i.e. to test for equality), the result would be of Boolean (`bool`) type. Unlike `int` and `float`, which can take many values, `bool` has only two values `True` and `False`. \n",
    "\n",
    "```python\n",
    "In [1]: 5 == 6\n",
    "Out[1]: False\n",
    "\n",
    "In [2]: 5 <= 6\n",
    "Out[2]: True\n",
    "```\n",
    "\n",
    "Comparing `string` variables or numerical variables is performed using relational operators, the following table lists the relational operators supported in Python\n",
    "\n",
    "| Operator | Description |\n",
    "|----------|-------------|\n",
    "| < | Less than|\n",
    "| <=| Less than or equal to|\n",
    "| > | Greater than|\n",
    "| >= | Greater than or equal to|\n",
    "| == | Equal to|\n",
    "|!= | Not equal to|\n",
    "\n",
    "#### Fundamental `bool` operators\n",
    "In addition to supporting numerical operators (+, -, &times; ...), Python also supports Boolean operators. The three basic Boolean operators are: `not`, `and`, `or`.\n",
    "\n",
    "##### `not`\n",
    "Is a unary operator; it operates on one variable (operand) by negating it. The following truth table shows the result of negating a `bool` variable `B`.\n",
    "\n",
    "|`B`|`not B`|\n",
    "|---|-------|\n",
    "|False| True|\n",
    "|True|False|\n",
    "\n",
    "##### `and`\n",
    "Is a binary operator; it operates on two variables (operands). It produces `True` when both variables are `True` and produces `False` otherwise. The following truth table shows the effect of the `and` operator on combining `A` and `B`.\n",
    "\n",
    "|`A`|`B`|`A and B`|\n",
    "|---|---|---------|\n",
    "|False|False|False|\n",
    "|False|True|False|\n",
    "|True|False|False|\n",
    "|True|True|True|\n",
    "\n",
    "##### `or`\n",
    "Is a binary operator; it operates on two variables (operands). It produces `True` if either (or both) of the variables is `True` and produces `False` otherwise. The following truth table shows the effect of `or` on combining `A` and `B`.\n",
    "\n",
    "|`A`|`B`|`A or B`|\n",
    "|---|---|---------|\n",
    "|False|False|False|\n",
    "|False|True|True|\n",
    "|True|False|True|\n",
    "|True|True|True|\n",
    "\n",
    "These operators are typically used to combine relational expressions rather than the constants `True` and `False`. This will allow you to construct more powerful conditional statements (i.e. `if` statements).\n",
    "\n",
    "NOTE: `not` has the highest precedence, followed by `and`, then `or`. Similar to arithmetic operators, you can control the precedence using the parentheses operator `()` to group relational expressions."
   ]
  },
  {
   "cell_type": "markdown",
   "metadata": {
    "deletable": true,
    "editable": true
   },
   "source": [
    "---\n",
    "<font size=\"6\" color=\"#00A0B2\"  face=\"verdana\"> <B>Examples</B></font>\n",
    "\n",
    "### not"
   ]
  },
  {
   "cell_type": "code",
   "execution_count": 1,
   "metadata": {
    "collapsed": true,
    "deletable": true,
    "editable": true
   },
   "outputs": [
    {
     "name": "stdout",
     "output_type": "stream",
     "text": [
      "not True =  False\n",
      "not False =  True\n"
     ]
    }
   ],
   "source": [
    "# not operator\n",
    "print(\"not True = \", not True)\n",
    "print(\"not False = \", not False)"
   ]
  },
  {
   "cell_type": "markdown",
   "metadata": {
    "deletable": true,
    "editable": true
   },
   "source": [
    "### `and`"
   ]
  },
  {
   "cell_type": "code",
   "execution_count": 2,
   "metadata": {
    "collapsed": true,
    "deletable": true,
    "editable": true
   },
   "outputs": [
    {
     "name": "stdout",
     "output_type": "stream",
     "text": [
      "False and False =  False\n",
      "False and True =  False\n",
      "True and False =  False\n",
      "True and True =  True\n"
     ]
    }
   ],
   "source": [
    "# and operator\n",
    "print(\"False and False = \", False and False)\n",
    "print(\"False and True = \", False and True)\n",
    "print(\"True and False = \", True and False)\n",
    "print(\"True and True = \", True and True)"
   ]
  },
  {
   "cell_type": "markdown",
   "metadata": {
    "deletable": true,
    "editable": true
   },
   "source": [
    "### `or`"
   ]
  },
  {
   "cell_type": "code",
   "execution_count": 3,
   "metadata": {
    "collapsed": true,
    "deletable": true,
    "editable": true
   },
   "outputs": [
    {
     "name": "stdout",
     "output_type": "stream",
     "text": [
      "False or False =  False\n",
      "False or True =  True\n",
      "True or False =  True\n",
      "True or True =  True\n"
     ]
    }
   ],
   "source": [
    "# or operator\n",
    "print(\"False or False = \", False or False)\n",
    "print(\"False or True = \", False or True)\n",
    "print(\"True or False = \", True or False)\n",
    "print(\"True or True = \", True or True)"
   ]
  },
  {
   "cell_type": "markdown",
   "metadata": {
    "deletable": true,
    "editable": true
   },
   "source": [
    "### Combining operators"
   ]
  },
  {
   "cell_type": "code",
   "execution_count": 4,
   "metadata": {
    "collapsed": true,
    "deletable": true,
    "editable": true
   },
   "outputs": [
    {
     "name": "stdout",
     "output_type": "stream",
     "text": [
      "True and not False = True\n",
      "False or not True =  False\n"
     ]
    }
   ],
   "source": [
    "print(\"True and not False =\", True and not False)\n",
    "print(\"False or not True = \", False or not True)"
   ]
  },
  {
   "cell_type": "markdown",
   "metadata": {
    "deletable": true,
    "editable": true
   },
   "source": [
    "---\n",
    "<font size=\"6\" color=\"#B24C00\"  face=\"verdana\"> <B>Task 1</B></font>\n",
    "\n",
    "## Boolean Operators"
   ]
  },
  {
   "cell_type": "markdown",
   "metadata": {
    "deletable": true,
    "editable": true
   },
   "source": [
    "### Boolean values (`True`, `False`)"
   ]
  },
  {
   "cell_type": "code",
   "execution_count": 7,
   "metadata": {
    "collapsed": true,
    "deletable": true,
    "editable": true
   },
   "outputs": [
    {
     "name": "stdout",
     "output_type": "stream",
     "text": [
      "True\n",
      "True\n",
      "True\n",
      "False\n",
      "False\n",
      "False\n"
     ]
    }
   ],
   "source": [
    "# [ ] Use relational and/or arithmetic operators with the variables x and y to write:\n",
    "# 3 expressions that evaluate to True (i.e. x >= y)\n",
    "# 3 expressions that evaluate to False (i.e. x <= y)\n",
    "\n",
    "x = 84\n",
    "y = 17\n",
    "print(x > y)\n",
    "print(x - y >= 0)\n",
    "print(x + y != 0)\n",
    "print(x <= y)\n",
    "print(x - y <= 0)\n",
    "print(x + y == 0)\n"
   ]
  },
  {
   "cell_type": "markdown",
   "metadata": {
    "deletable": true,
    "editable": true
   },
   "source": [
    "### Boolean operators (`not`, `and`, `or`)"
   ]
  },
  {
   "cell_type": "code",
   "execution_count": 8,
   "metadata": {
    "collapsed": true,
    "deletable": true,
    "editable": true
   },
   "outputs": [
    {
     "name": "stdout",
     "output_type": "stream",
     "text": [
      "True\n",
      "True\n",
      "True\n",
      "False\n",
      "False\n",
      "False\n"
     ]
    }
   ],
   "source": [
    "# [ ] Use the basic Boolean operators with the variables x and y to write:\n",
    "# 3 expressions that evaluate to True (i.e. not y)\n",
    "# 3 expressions that evaluate to False (i.e. x and y)\n",
    "\n",
    "x = True\n",
    "y = False\n",
    "print(x or y)\n",
    "print(x and not y)\n",
    "print(x or x)\n",
    "print(x and y)\n",
    "print(y or y)\n",
    "print(y and not x)"
   ]
  },
  {
   "cell_type": "markdown",
   "metadata": {
    "deletable": true,
    "editable": true
   },
   "source": [
    "---\n",
    "<font size=\"6\" color=\"#00A0B2\"  face=\"verdana\"> <B>Concepts</B></font>  \n",
    "\n",
    "\n",
    "## Combining Comparisons\n",
    "\n",
    "[![view video](https://iajupyterprodblobs.blob.core.windows.net/imagecontainer/common/play_video.png)](https://www.youtube.com/watch?v=cKuGBIgyhsE)\n",
    "\n",
    "The basic `bool` operators can be used to combine multiple relational tests. For example, say you want to test whether a variable `x` contains a number within a certain range (i.e. 10 &leq; x &leq; 20). You can perform this test, by checking whether the number is greater than or equal to 10 and whether the number is less than or equal to 20.\n",
    "\n",
    "```python\n",
    "In [1]: x = 11\n",
    "In [2]: (x >= 10) and (x <= 20)\n",
    "Out[2]: True\n",
    "\n",
    "In [3]: x = 9\n",
    "In [4]: (x >= 10) and (x <= 20)\n",
    "Out[4]: False\n",
    "```\n",
    "\n",
    "The relational tests need not be numerical. For example, you can test whether a variable `c` contains a capital letter (i.e. 'A' &leq; c &leq; 'Z').\n",
    "\n",
    "```python\n",
    "In [1]: c = 'N'\n",
    "In [2]: (c >= 'A') and (c <= 'Z')\n",
    "Out[2]: True\n",
    "\n",
    "In [3]: c = 'n'\n",
    "In [4]: (c >= 'A') and (c <= 'Z')\n",
    "Out[4]: False\n",
    "```"
   ]
  },
  {
   "cell_type": "markdown",
   "metadata": {
    "deletable": true,
    "editable": true
   },
   "source": [
    "---\n",
    "<font size=\"6\" color=\"#00A0B2\"  face=\"verdana\"> <B>Examples</B></font>\n",
    "\n",
    "### Testing whether a number is outside a range\n"
   ]
  },
  {
   "cell_type": "code",
   "execution_count": 9,
   "metadata": {
    "collapsed": true,
    "deletable": true,
    "editable": true
   },
   "outputs": [
    {
     "data": {
      "text/plain": [
       "False"
      ]
     },
     "execution_count": 9,
     "metadata": {},
     "output_type": "execute_result"
    }
   ],
   "source": [
    "# Testing if x is outside the range [10, 20]\n",
    "\n",
    "x = 11\n",
    "(x < 10) or (x > 20)\n"
   ]
  },
  {
   "cell_type": "code",
   "execution_count": 10,
   "metadata": {
    "collapsed": true,
    "deletable": true,
    "editable": true
   },
   "outputs": [
    {
     "data": {
      "text/plain": [
       "True"
      ]
     },
     "execution_count": 10,
     "metadata": {},
     "output_type": "execute_result"
    }
   ],
   "source": [
    "# Testing if x is outside the range [10, 20]\n",
    "\n",
    "x = 50\n",
    "(x < 10) or (x > 20)\n"
   ]
  },
  {
   "cell_type": "markdown",
   "metadata": {
    "deletable": true,
    "editable": true
   },
   "source": [
    "### Testing whether a number is positive and odd\n",
    "You can combine relational operators, arithmetic operators, and Boolean operators to generate powerful Boolean expressions. In this example, you will test whether a number is both positive and odd."
   ]
  },
  {
   "cell_type": "code",
   "execution_count": 11,
   "metadata": {
    "collapsed": true,
    "deletable": true,
    "editable": true
   },
   "outputs": [
    {
     "data": {
      "text/plain": [
       "True"
      ]
     },
     "execution_count": 11,
     "metadata": {},
     "output_type": "execute_result"
    }
   ],
   "source": [
    "# Testing if x is a positive and odd number\n",
    "\n",
    "x = 11\n",
    "(x > 0) and (x % 2 != 0)"
   ]
  },
  {
   "cell_type": "code",
   "execution_count": 12,
   "metadata": {
    "collapsed": true,
    "deletable": true,
    "editable": true
   },
   "outputs": [
    {
     "data": {
      "text/plain": [
       "False"
      ]
     },
     "execution_count": 12,
     "metadata": {},
     "output_type": "execute_result"
    }
   ],
   "source": [
    "# Testing if x is a positive and odd number\n",
    "\n",
    "x = -11\n",
    "(x > 0) and (x % 2 != 0)"
   ]
  },
  {
   "cell_type": "code",
   "execution_count": 13,
   "metadata": {
    "collapsed": true,
    "deletable": true,
    "editable": true
   },
   "outputs": [
    {
     "data": {
      "text/plain": [
       "False"
      ]
     },
     "execution_count": 13,
     "metadata": {},
     "output_type": "execute_result"
    }
   ],
   "source": [
    "# Testing if x is a positive and odd number\n",
    "\n",
    "x = 22\n",
    "(x > 0) and (x % 2 != 0)"
   ]
  },
  {
   "cell_type": "markdown",
   "metadata": {
    "deletable": true,
    "editable": true
   },
   "source": [
    "### Testing using 2 different variables\n",
    "You can combine Boolean expressions of different variables. In this example, you will test whether a driver's name starts with the letter `C` and she is 18 years or younger."
   ]
  },
  {
   "cell_type": "code",
   "execution_count": 14,
   "metadata": {
    "collapsed": true,
    "deletable": true,
    "editable": true
   },
   "outputs": [
    {
     "data": {
      "text/plain": [
       "True"
      ]
     },
     "execution_count": 14,
     "metadata": {},
     "output_type": "execute_result"
    }
   ],
   "source": [
    "# Driver information\n",
    "name = 'Colette'\n",
    "age = 17\n",
    "\n",
    "# Testing if name starts with `C` and the age is 18 or less\n",
    "(name.startswith('C')) and (age <= 18)"
   ]
  },
  {
   "cell_type": "code",
   "execution_count": 15,
   "metadata": {
    "collapsed": true,
    "deletable": true,
    "editable": true
   },
   "outputs": [
    {
     "data": {
      "text/plain": [
       "False"
      ]
     },
     "execution_count": 15,
     "metadata": {},
     "output_type": "execute_result"
    }
   ],
   "source": [
    "# Driver information\n",
    "name = 'John'\n",
    "age = 17\n",
    "\n",
    "# Testing if name starts with `C` and the age is 18 or less\n",
    "(name.startswith('C')) and (age <= 18)"
   ]
  },
  {
   "cell_type": "markdown",
   "metadata": {
    "deletable": true,
    "editable": true
   },
   "source": [
    "---\n",
    "<font size=\"6\" color=\"#B24C00\"  face=\"verdana\"> <B>Task 2</B></font>\n",
    "\n",
    "## Combining Comparisons"
   ]
  },
  {
   "cell_type": "code",
   "execution_count": 4,
   "metadata": {
    "collapsed": true,
    "deletable": true,
    "editable": true
   },
   "outputs": [
    {
     "data": {
      "text/plain": [
       "False"
      ]
     },
     "execution_count": 4,
     "metadata": {},
     "output_type": "execute_result"
    }
   ],
   "source": [
    "# [ ] Write an expression to test if x is an even number outside the range [-100, 100]\n",
    "\n",
    "# Test your expression with:\n",
    "# x = 104 (True)\n",
    "# x = 115 (False)\n",
    "# x = -106 (True)\n",
    "# x = -99 (False)\n",
    "(x%2 ==0) and ((x<=100) or (x>=100))\n"
   ]
  },
  {
   "cell_type": "code",
   "execution_count": 5,
   "metadata": {
    "collapsed": true,
    "deletable": true,
    "editable": true
   },
   "outputs": [
    {
     "ename": "TypeError",
     "evalue": "isupper() takes no arguments (1 given)",
     "output_type": "error",
     "traceback": [
      "\u001b[0;31m---------------------------------------------------------------------------\u001b[0m",
      "\u001b[0;31mTypeError\u001b[0m                                 Traceback (most recent call last)",
      "Cell \u001b[0;32mIn [5], line 7\u001b[0m\n\u001b[1;32m      5\u001b[0m s \u001b[39m=\u001b[39m \u001b[39m\"\u001b[39m\u001b[39mCapitaL\u001b[39m\u001b[39m\"\u001b[39m \n\u001b[1;32m      6\u001b[0m \u001b[39m# s = \"Not Capital\" (False)\u001b[39;00m\n\u001b[0;32m----> 7\u001b[0m s\u001b[39m.\u001b[39misupper(\u001b[39m0\u001b[39m) \u001b[39mand\u001b[39;00m s\u001b[39m.\u001b[39misupper(\u001b[39m-\u001b[39m\u001b[39m1\u001b[39m)\n",
      "\u001b[0;31mTypeError\u001b[0m: isupper() takes no arguments (1 given)"
     ]
    }
   ],
   "source": [
    "# [ ] Write an expression to test if a string s starts and ends with a capital letter\n",
    "# HINT: You might find the function `str.isupper()` useful\n",
    "\n",
    "# Test your expression with\n",
    "s = \"CapitaL\" \n",
    "# s = \"Not Capital\" (False)\n",
    "s.isupper() and s.isupper()\n"
   ]
  },
  {
   "cell_type": "code",
   "execution_count": 9,
   "metadata": {
    "collapsed": true,
    "deletable": true,
    "editable": true
   },
   "outputs": [
    {
     "name": "stdout",
     "output_type": "stream",
     "text": [
      "True\n"
     ]
    }
   ],
   "source": [
    "# [ ] Write an expression to test if a string s contains a numerical value\n",
    "# then test if the value is greater than the value stored in x\n",
    "# HINT: Use the functions `s.isnumeric()` and `float(s)`\n",
    "\n",
    "# Test your expression with\n",
    "# s = \"39\"\n",
    "# x = 24\n",
    "# Expression should yield True\n",
    "\n",
    "# s = \"a39\"\n",
    "# x = 24\n",
    "# Expression should yield False\n",
    "if s.isnumeric():\n",
    "    print(float(s) > x)\n"
   ]
  },
  {
   "cell_type": "markdown",
   "metadata": {
    "deletable": true,
    "editable": true
   },
   "source": [
    "---\n",
    "<font size=\"6\" color=\"#00A0B2\"  face=\"verdana\"> <B>Concepts</B></font>  \n",
    "\n",
    "\n",
    "## Boolean Expressions Equality\n",
    "\n",
    "[![view video](https://iajupyterprodblobs.blob.core.windows.net/imagecontainer/common/play_video.png)](https://www.youtube.com/watch?v=NTXm_Ovq0xI)\n",
    "\n",
    "It is possible to write two (or more) different Boolean expressions that yield the same results. Let's revisit the example testing whether x is within the range [10, 20]."
   ]
  },
  {
   "cell_type": "markdown",
   "metadata": {
    "deletable": true,
    "editable": true
   },
   "source": [
    "---\n",
    "<font size=\"6\" color=\"#00A0B2\"  face=\"verdana\"> <B>Examples</B></font>\n",
    "\n",
    "### Expression 1: Test whether `x` is within [10, 20]"
   ]
  },
  {
   "cell_type": "code",
   "execution_count": 10,
   "metadata": {
    "collapsed": true,
    "deletable": true,
    "editable": true
   },
   "outputs": [
    {
     "data": {
      "text/plain": [
       "True"
      ]
     },
     "execution_count": 10,
     "metadata": {},
     "output_type": "execute_result"
    }
   ],
   "source": [
    "x = 11\n",
    "(x >= 10) and (x <= 20)"
   ]
  },
  {
   "cell_type": "code",
   "execution_count": 11,
   "metadata": {
    "collapsed": true,
    "deletable": true,
    "editable": true
   },
   "outputs": [
    {
     "data": {
      "text/plain": [
       "False"
      ]
     },
     "execution_count": 11,
     "metadata": {},
     "output_type": "execute_result"
    }
   ],
   "source": [
    "x = 30\n",
    "(x >= 10) and (x <= 20)"
   ]
  },
  {
   "cell_type": "markdown",
   "metadata": {
    "deletable": true,
    "editable": true
   },
   "source": [
    "### Expression 2: Test whether `x` is within [10, 20]"
   ]
  },
  {
   "cell_type": "code",
   "execution_count": 12,
   "metadata": {
    "collapsed": true,
    "deletable": true,
    "editable": true
   },
   "outputs": [
    {
     "data": {
      "text/plain": [
       "True"
      ]
     },
     "execution_count": 12,
     "metadata": {},
     "output_type": "execute_result"
    }
   ],
   "source": [
    "x = 11\n",
    "not((x < 10) or (x > 20))"
   ]
  },
  {
   "cell_type": "code",
   "execution_count": 13,
   "metadata": {
    "collapsed": true,
    "deletable": true,
    "editable": true
   },
   "outputs": [
    {
     "data": {
      "text/plain": [
       "False"
      ]
     },
     "execution_count": 13,
     "metadata": {},
     "output_type": "execute_result"
    }
   ],
   "source": [
    "x = 30\n",
    "not((x < 10) or (x > 20))"
   ]
  },
  {
   "cell_type": "markdown",
   "metadata": {
    "deletable": true,
    "editable": true
   },
   "source": [
    "---\n",
    "<font size=\"6\" color=\"#B24C00\"  face=\"verdana\"> <B>Task 3</B></font>\n",
    "\n",
    "## Boolean Expressions Equality"
   ]
  },
  {
   "cell_type": "code",
   "execution_count": null,
   "metadata": {
    "collapsed": true,
    "deletable": true,
    "editable": true
   },
   "outputs": [],
   "source": [
    "# [ ] Write an expression equivalent to the one below \n",
    "# to test if x is outside the range [10, 20] (seen in a previous example)\n",
    "\n",
    "# (x < 10) or (x > 20)\n",
    "\n",
    "# Test your expression with \n",
    "# x = 11 (False)\n",
    "# x = 50 (True)\n",
    "\n"
   ]
  },
  {
   "cell_type": "code",
   "execution_count": null,
   "metadata": {
    "collapsed": true,
    "deletable": true,
    "editable": true
   },
   "outputs": [],
   "source": [
    "# [ ] Write a second expression to test if x is an even number outside the range [-100, 100]\n",
    "# Do NOT use the expression you wrote for a previous exercise\n",
    "\n",
    "# Test your expression with:\n",
    "# x = 104 (True)\n",
    "# x = 115 (False)\n",
    "# x = -106 (True)\n",
    "# x = -99 (False)\n",
    "\n"
   ]
  },
  {
   "cell_type": "markdown",
   "metadata": {
    "deletable": true,
    "editable": true
   },
   "source": [
    "---\n",
    "<font size=\"6\" color=\"#00A0B2\"  face=\"verdana\"> <B>Concepts</B></font>  \n",
    "\n",
    "\n",
    "## Compound Conditionals\n",
    "\n",
    "[![view video](https://iajupyterprodblobs.blob.core.windows.net/imagecontainer/common/play_video.png)](https://www.youtube.com/watch?v=H0Htg7SGaSI)\n",
    "\n",
    "\n",
    "Combined Boolean expressions can be used within the testing conditions of `if` and `elif` statements. This will let you write compound conditionals and give you fine control over the program flow. For example, you can test the validity of user input against several combined conditions. Similarly, you can also check the content of a variable against multiple ranges."
   ]
  },
  {
   "cell_type": "markdown",
   "metadata": {
    "deletable": true,
    "editable": true
   },
   "source": [
    "---\n",
    "<font size=\"6\" color=\"#00A0B2\"  face=\"verdana\"> <B>Examples</B></font>\n",
    "\n",
    "### Testing validity of user input"
   ]
  },
  {
   "cell_type": "code",
   "execution_count": 14,
   "metadata": {
    "collapsed": true,
    "deletable": true,
    "editable": true
   },
   "outputs": [
    {
     "name": "stdout",
     "output_type": "stream",
     "text": [
      "11 is a valid number\n"
     ]
    }
   ],
   "source": [
    "# Solicit user input\n",
    "x = input(\"Enter an odd positive number: \")\n",
    "\n",
    "# Convert the string input into int\n",
    "x = int(x)\n",
    "\n",
    "# Test number for validity\n",
    "if ((x > 0) and (x % 2 != 0)):\n",
    "    print(x, \"is a valid number\")\n",
    "else:\n",
    "    print(x, \"is NOT a valid number\")"
   ]
  },
  {
   "cell_type": "markdown",
   "metadata": {
    "deletable": true,
    "editable": true
   },
   "source": [
    "### Testing inclusion in a range"
   ]
  },
  {
   "cell_type": "code",
   "execution_count": 15,
   "metadata": {
    "collapsed": true,
    "deletable": true,
    "editable": true
   },
   "outputs": [
    {
     "name": "stdout",
     "output_type": "stream",
     "text": [
      "You were born in the 90s!\n"
     ]
    }
   ],
   "source": [
    "# Solicit user input\n",
    "y = input(\"Enter your birth year: \")\n",
    "\n",
    "# Convert the string input into int\n",
    "y = int(y)\n",
    "\n",
    "# Check the decade membership\n",
    "if (y < 1970):\n",
    "    print(\"You were born before 1970!\")\n",
    "elif (y >= 1970 and y < 1980):\n",
    "    print(\"You were born in the 70s!\")\n",
    "elif (y >= 1980 and y < 1990):\n",
    "    print(\"You were born in the 80s!\")\n",
    "elif (y >= 1990 and y < 2000):\n",
    "    print(\"You were born in the 90s!\")\n",
    "elif (y >= 2000 and y < 2010):\n",
    "    print(\"You were born in early 2000s!\")\n",
    "else:\n",
    "    print(\"You were born in the current decade!\")"
   ]
  },
  {
   "cell_type": "markdown",
   "metadata": {
    "deletable": true,
    "editable": true
   },
   "source": [
    "---\n",
    "<font size=\"6\" color=\"#B24C00\"  face=\"verdana\"> <B>Task 4</B></font>\n",
    "\n",
    "## Compound Conditionals"
   ]
  },
  {
   "cell_type": "code",
   "execution_count": 18,
   "metadata": {
    "collapsed": true,
    "deletable": true,
    "editable": true
   },
   "outputs": [
    {
     "name": "stdout",
     "output_type": "stream",
     "text": [
      "input invalid\n"
     ]
    }
   ],
   "source": [
    "# [ ] Write a program to validate that user input is outside the range [0, 100]\n",
    "x = input()\n",
    "def valid(x):\n",
    "    x =int(x)\n",
    "    if x < 0 or x >100:\n",
    "        print(\"inpout valid\")\n",
    "    else:\n",
    "        print(\"input invalid\")\n",
    "valid(x)"
   ]
  },
  {
   "cell_type": "markdown",
   "metadata": {
    "deletable": true,
    "editable": true
   },
   "source": [
    "### BMI category \n",
    "The Body Mass Index (BMI) measures the body fat using the weight and height of a person. The BMI is used to classify adults into categories as in the following table.\n",
    "\n",
    "|Category|BMI range|\n",
    "|--------|---------|\n",
    "|Underweight| < 18.5|\n",
    "|Normal Weight| 18.5 - 24.9|\n",
    "|Overweight|25 - 29.9|\n",
    "|Obese| &geq; 30|\n"
   ]
  },
  {
   "cell_type": "code",
   "execution_count": 23,
   "metadata": {
    "collapsed": true,
    "deletable": true,
    "editable": true
   },
   "outputs": [
    {
     "name": "stdout",
     "output_type": "stream",
     "text": [
      "Obese\n"
     ]
    }
   ],
   "source": [
    "# [ ] Write a program to ask a user for her/his BMI index, then display the user's BMI category\n",
    "user = input(\"input your BMI value:\")\n",
    "user = float(user)\n",
    "if user < 18.5:\n",
    "    print(\"Underweight\")\n",
    "elif user >= 18.5 and user <25:\n",
    "    print(\"Normal weight\")\n",
    "elif user >= 25 and user <30:\n",
    "    print(\"Over weight\")\n",
    "else:\n",
    "    print(\"Obese\")"
   ]
  }
 ],
 "metadata": {
  "kernelspec": {
   "display_name": "Python 3",
   "language": "python",
   "name": "python3"
  },
  "language_info": {
   "codemirror_mode": {
    "name": "ipython",
    "version": 3
   },
   "file_extension": ".py",
   "mimetype": "text/x-python",
   "name": "python",
   "nbconvert_exporter": "python",
   "pygments_lexer": "ipython3",
   "version": "3.8.13"
  },
  "vscode": {
   "interpreter": {
    "hash": "9ac03a0a6051494cc606d484d27d20fce22fb7b4d169f583271e11d5ba46a56e"
   }
  }
 },
 "nbformat": 4,
 "nbformat_minor": 2
}
