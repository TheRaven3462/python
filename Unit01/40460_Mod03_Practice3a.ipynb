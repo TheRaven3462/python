{
 "cells": [
  {
   "cell_type": "markdown",
   "metadata": {},
   "source": [
    "# Lab 3a\n",
    "## Conditionals Practice\n",
    "\n",
    "-----\n",
    "\n",
    "### Student will be able to\n",
    "- **Control code flow with `if`... `else` conditional logic**  \n",
    "  - Using Boolean string methods (`.isupper(), .isalpha(), startswith()...`)  \n",
    "  - Using comparision (`>, <, >=, <=, ==, !=`)  \n",
    "  - Using Strings in comparisons  "
   ]
  },
  {
   "cell_type": "code",
   "execution_count": 15,
   "metadata": {},
   "outputs": [
    {
     "name": "stdout",
     "output_type": "stream",
     "text": [
      "27\n"
     ]
    }
   ],
   "source": [
    "user1 = int(input())\n",
    "user2 = int(input())\n",
    "user3 = input()\n",
    "def addition(user1, user2):\n",
    "    addition = user1 + user2\n",
    "    print(addition)\n",
    "def subtraction(user1, user2):\n",
    "    subtraction = user1 - user2\n",
    "    print(subtraction)\n",
    "def multiplication(user1, user2):\n",
    "    multiplication = user1 * user2\n",
    "    print(multiplication)\n",
    "def power(user1, user2):\n",
    "    power = user1 ** user2\n",
    "    print(power)\n",
    "def division(user1, user2):\n",
    "    if user2 != 0:\n",
    "        division = user1 / user2\n",
    "        print(division)\n",
    "    else:\n",
    "        division = float('inf')\n",
    "        print(division)\n",
    "\n",
    "if user3.lower() == \"addition\" or user3 == \"+\":\n",
    "    addition(user1, user2)\n",
    "elif user3.lower() == \"subtraction\" or user3 == \"-\":\n",
    "        subtraction(user1, user2)\n",
    "elif user3.lower() == \"multiplication\" or user3 == \"*\":\n",
    "    multiplication(user1, user2)\n",
    "elif user3.lower() == \"division\" or user3 == \"/\":\n",
    "        division(user1, user2)\n",
    "elif user3.lower() == \"power\" or user3 == \"^\":\n",
    "        power(user1, user2)\n"
   ]
  },
  {
   "cell_type": "markdown",
   "metadata": {},
   "source": [
    "## `if else`\n"
   ]
  },
  {
   "cell_type": "code",
   "execution_count": 10,
   "metadata": {
    "collapsed": false
   },
   "outputs": [
    {
     "name": "stdout",
     "output_type": "stream",
     "text": [
      "Age in ten years is: 22\n"
     ]
    }
   ],
   "source": [
    "# [ ] input avariable: age as digit and cast to int\n",
    "# if age greater than or equal to 12 then print message on age in 10 years \n",
    "# or else print message \"It is good to be\" age\n",
    "age = input()\n",
    "interger = int(age)\n",
    "if interger >=12:\n",
    "    plus = interger + 10\n",
    "    print('Age in ten years is: ' + str(plus))\n",
    "else:\n",
    "    print('It is good to be ' + age)\n",
    "\n",
    "\n",
    "\n"
   ]
  },
  {
   "cell_type": "code",
   "execution_count": 12,
   "metadata": {
    "collapsed": false
   },
   "outputs": [
    {
     "name": "stdout",
     "output_type": "stream",
     "text": [
      "Greater than 100 is true\n"
     ]
    }
   ],
   "source": [
    "# [ ] input a number \n",
    "# - if number is NOT a digit cast to int\n",
    "# - print number \"greater than 100 is\" True/False\n",
    "num = input()\n",
    "integer = int(num)\n",
    "if integer > 100:\n",
    "    print('Greater than 100 is true')\n",
    "else:\n",
    "    print('Greater than 100 is false')\n",
    "\n"
   ]
  },
  {
   "cell_type": "markdown",
   "metadata": {},
   "source": [
    "### Guessing a letter A-Z  \n",
    "**check_guess()** takes two string arguments: **letter and guess** (both expect single alphabetical character)   \n",
    "    - If guess is not an alpha character print invalid and return False\n",
    "    - Test and print if guess is \"high\" or \"low\" and return False\n",
    "    - Test and print if guess is \"correct\" and return True"
   ]
  },
  {
   "cell_type": "code",
   "execution_count": 26,
   "metadata": {
    "collapsed": false
   },
   "outputs": [
    {
     "name": "stdout",
     "output_type": "stream",
     "text": [
      "correct\n"
     ]
    },
    {
     "data": {
      "text/plain": [
       "True"
      ]
     },
     "execution_count": 26,
     "metadata": {},
     "output_type": "execute_result"
    }
   ],
   "source": [
    "# [ ] create check_guess()\n",
    "# call with test\n",
    "def check_guess():\n",
    "    letter = ('b')\n",
    "    if guess.isalpha() != True:\n",
    "        print('Invalid')\n",
    "        return False\n",
    "    elif guess >letter:\n",
    "        print('high')\n",
    "        return False\n",
    "    elif guess < letter:\n",
    "        print('low')\n",
    "        return False\n",
    "    else:\n",
    "        print('correct')\n",
    "        return True\n",
    "guess = input()\n",
    "check_guess()"
   ]
  },
  {
   "cell_type": "code",
   "execution_count": 22,
   "metadata": {
    "collapsed": false
   },
   "outputs": [],
   "source": [
    "# [ ] call check_guess with user input\n",
    "def check_guess():\n",
    "    letter = ('b')\n",
    "    if guess.isalpha() != True:\n",
    "        print('Invalid')\n",
    "        return False\n",
    "    elif guess >letter:\n",
    "        print('high')\n",
    "        return False\n",
    "    elif guess < letter:\n",
    "        print('low')\n",
    "        return False\n",
    "    else:\n",
    "        print('correct')\n",
    "        return True\n",
    "guess = input()\n",
    "check_guess()\n"
   ]
  },
  {
   "cell_type": "markdown",
   "metadata": {},
   "source": [
    "### Letter Guess\n",
    "**Create letter_guess() function that gives the user three guesses**\n",
    "- Take a letter character argument for the answer letter\n",
    "- Get user input for letter guess  \n",
    "- Call check_guess() with answer and guess\n",
    "- End letter_guess if \n",
    "    - check_guess() equals True, return True  \n",
    "    - or after 3 failed attempts, return False"
   ]
  },
  {
   "cell_type": "code",
   "execution_count": 30,
   "metadata": {
    "collapsed": false
   },
   "outputs": [
    {
     "name": "stdout",
     "output_type": "stream",
     "text": [
      "low\n",
      "high\n",
      "high\n",
      "answer was  b\n",
      "game over\n"
     ]
    }
   ],
   "source": [
    "# [ ] create letter_guess() function, call the function to test\n",
    "letter = ('b')\n",
    "guesses = 3\n",
    "def check_guess(guess, letter):\n",
    "    if guess.isalpha() != True:\n",
    "        print('Invalid')\n",
    "        return False\n",
    "    elif guess >letter:\n",
    "        print('high')\n",
    "        return False\n",
    "    elif guess < letter:\n",
    "        print('low')\n",
    "        return False\n",
    "    else:\n",
    "        return True\n",
    "\n",
    "def letter_guess():\n",
    "    for i in range(guesses):\n",
    "        guess = input()\n",
    "        left = check_guess(guess, letter)\n",
    "        if left:\n",
    "            print('correct')\n",
    "            return True\n",
    "    return False\n",
    "result = letter_guess()\n",
    "if result:\n",
    "    print('Correct')\n",
    "else:\n",
    "    print('answer was ',letter)\n",
    "print('game over')\n",
    "\n",
    "    \n"
   ]
  },
  {
   "cell_type": "markdown",
   "metadata": {},
   "source": [
    "### Pet Conversation\n",
    "**Ask the user for a sentence about a pet and then reply**  \n",
    "- Get user input in variable: about_pet\n",
    "- Using a series of **if** statements, respond with appropriate conversation\n",
    "  - Check if \"dog\" is in the string about_pet (sample reply \"Ah, a dog\")\n",
    "  - Check if \"cat\" is in the string about_pet\n",
    "  - Check if 1 or more animal is in string about_pet\n",
    "- No need for **else**'s\n",
    "- Finish by thanking for the story"
   ]
  },
  {
   "cell_type": "code",
   "execution_count": 39,
   "metadata": {
    "collapsed": false
   },
   "outputs": [
    {
     "name": "stdout",
     "output_type": "stream",
     "text": [
      "Ah, a dog!\n",
      "That is a purrfect cat\n",
      "Dogs and cats, I see\n",
      "Thanks for the story\n"
     ]
    }
   ],
   "source": [
    "# [ ] complete pet conversation\n",
    "about_pet = input('Describe your pet or pets: ')\n",
    "dog = 'dog'\n",
    "cat = 'cat'\n",
    "if str(about_pet).__contains__(dog):\n",
    "    print('Ah, a dog!')\n",
    "if str(about_pet).__contains__(cat):\n",
    "    print('That is a purrfect cat')\n",
    "if str(about_pet).__contains__(dog) and str(about_pet).__contains__(cat):\n",
    "    print('Dogs and cats, I see')\n",
    "print('Thanks for the story')"
   ]
  },
  {
   "cell_type": "markdown",
   "metadata": {
    "collapsed": true
   },
   "source": [
    "[Terms of use](http://go.microsoft.com/fwlink/?LinkID=206977) &nbsp; [Privacy & cookies](https://go.microsoft.com/fwlink/?LinkId=521839) &nbsp; © 2017 Microsoft"
   ]
  }
 ],
 "metadata": {
  "anaconda-cloud": {},
  "kernelspec": {
   "display_name": "Python 3",
   "language": "python",
   "name": "python3"
  },
  "language_info": {
   "codemirror_mode": {
    "name": "ipython",
    "version": 3
   },
   "file_extension": ".py",
   "mimetype": "text/x-python",
   "name": "python",
   "nbconvert_exporter": "python",
   "pygments_lexer": "ipython3",
   "version": "3.8.13"
  },
  "vscode": {
   "interpreter": {
    "hash": "110cc1dee26208153f2972f08a2ad52b6a56238dc66d48e87fb757ef2996db56"
   }
  }
 },
 "nbformat": 4,
 "nbformat_minor": 0
}
