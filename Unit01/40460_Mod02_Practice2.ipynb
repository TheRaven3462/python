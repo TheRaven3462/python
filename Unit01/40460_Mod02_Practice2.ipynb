{
 "cells": [
  {
   "cell_type": "markdown",
   "metadata": {},
   "source": [
    "# Lab 2\n",
    "## Functions, Arguments, and Parameters Practice\n",
    "\n",
    "-----\n",
    "\n",
    "### Student will be able to\n",
    "- **Create functions with a parameter**  \n",
    "- **Create functions with a `return` value** \n",
    "- **Create functions with multiple parameters**\n",
    "- **Use knowledge of sequence in coding tasks**  \n",
    "- **Use coding best practices** "
   ]
  },
  {
   "cell_type": "markdown",
   "metadata": {},
   "source": [
    "## Tasks"
   ]
  },
  {
   "cell_type": "code",
   "execution_count": 1,
   "metadata": {
    "collapsed": false
   },
   "outputs": [
    {
     "name": "stdout",
     "output_type": "stream",
     "text": [
      "2 line rhyme\n",
      "1 line rhyme\n"
     ]
    }
   ],
   "source": [
    "# [ ] define and call a function short_rhyme() that prints a 2 line rhyme\n",
    "def short_rhyme():\n",
    "    print(\"2 line rhyme\")\n",
    "    print(\"1 line rhyme\")\n",
    "short_rhyme()"
   ]
  },
  {
   "cell_type": "code",
   "execution_count": 9,
   "metadata": {
    "collapsed": false
   },
   "outputs": [
    {
     "name": "stdout",
     "output_type": "stream",
     "text": [
      "Woe Is Me, I'M So Woe\n"
     ]
    }
   ],
   "source": [
    "# [ ] define (def) a simple function: title_it() and call the function\n",
    "# - has a string parameter: msg\n",
    "# - prints msg in Title Case\n",
    "def title_it():\n",
    "    msg= (\"woe is me, i'm so woe\")\n",
    "    msg1 = msg.title()\n",
    "    print(msg1)\n",
    "\n",
    "title_it()\n"
   ]
  },
  {
   "cell_type": "code",
   "execution_count": 10,
   "metadata": {
    "collapsed": false
   },
   "outputs": [
    {
     "name": "stdout",
     "output_type": "stream",
     "text": [
      "Wow So Fun Content\n"
     ]
    }
   ],
   "source": [
    "# [ ] get user input with prompt \"what is the title?\" \n",
    "# [ ] call title_it() using input for the string argument\n",
    "def title_it():\n",
    "    msg= input()\n",
    "    msg1 = msg.title()\n",
    "    print(msg1)\n",
    "\n",
    "title_it()"
   ]
  },
  {
   "cell_type": "code",
   "execution_count": 2,
   "metadata": {
    "collapsed": false
   },
   "outputs": [
    {
     "name": "stdout",
     "output_type": "stream",
     "text": [
      "None\n"
     ]
    }
   ],
   "source": [
    "# [ ] define title_it_rtn() which returns a titled string instead of printing\n",
    "# [ ] call title_it_rtn() using input for the string argument and print the result\n",
    "def title_it_rtn():\n",
    "    msg = input()\n",
    "    msg1 = msg.title()\n",
    "    return\n",
    "\n",
    "print(title_it_rtn())\n"
   ]
  },
  {
   "cell_type": "markdown",
   "metadata": {},
   "source": [
    "## Program: bookstore()\n",
    "Create and test bookstore().\n",
    "- **bookstore() takes 2 string arguments: book & price**\n",
    "- **bookstore returns a string in sentence form** \n",
    "- **bookstore() should call title_it_rtn()** with book parameter  \n",
    "- **Gather input for book_entry and price_entry to use in calling bookstore()**\n",
    "- **Print the return value of bookstore()**\n",
    ">Example of output: **`Title: The Adventures Of Sherlock Holmes, costs $12.99`**"
   ]
  },
  {
   "cell_type": "code",
   "execution_count": 15,
   "metadata": {
    "collapsed": false
   },
   "outputs": [
    {
     "name": "stdout",
     "output_type": "stream",
     "text": [
      "Title: The Adventure of Sherlock Holmes, costs: $12.99\n"
     ]
    }
   ],
   "source": [
    "def bookstore():\n",
    "    book_choice = input(\"Book title: \")\n",
    "    book_price = input(\"Book price: \")\n",
    "    return \"Title: \" + book_choice + \", costs: £\" + book_price\n",
    "print (bookstore())\n",
    "\n",
    "\n"
   ]
  },
  {
   "cell_type": "markdown",
   "metadata": {},
   "source": [
    "## Fix the error"
   ]
  },
  {
   "cell_type": "code",
   "execution_count": 16,
   "metadata": {
    "collapsed": false
   },
   "outputs": [
    {
     "name": "stdout",
     "output_type": "stream",
     "text": [
      "luke hi!\n"
     ]
    }
   ],
   "source": [
    "def make_greeting(name, greeting = \"Hello\"):\n",
    "    return (greeting + \" \" + name + \"!\")\n",
    "def get_name():\n",
    "    name_entry = input(\"enter a name: \")\n",
    "    return name_entry\n",
    "\n",
    "def get_greeting():\n",
    "    greeting_entry = input(\"enter a greeting: \")\n",
    "    return greeting_entry\n",
    "\n",
    "# get name and greeting, send to make_greeting \n",
    "print(make_greeting(get_name(), get_greeting()))\n",
    "\n",
    "\n",
    "\n",
    "\n"
   ]
  },
  {
   "cell_type": "markdown",
   "metadata": {
    "collapsed": false
   },
   "source": [
    "\n",
    "[Terms of use](http://go.microsoft.com/fwlink/?LinkID=206977) &nbsp; [Privacy & cookies](https://go.microsoft.com/fwlink/?LinkId=521839) &nbsp; © 2017 Microsoft"
   ]
  }
 ],
 "metadata": {
  "anaconda-cloud": {},
  "kernelspec": {
   "display_name": "Python 3",
   "language": "python",
   "name": "python3"
  },
  "language_info": {
   "codemirror_mode": {
    "name": "ipython",
    "version": 3
   },
   "file_extension": ".py",
   "mimetype": "text/x-python",
   "name": "python",
   "nbconvert_exporter": "python",
   "pygments_lexer": "ipython3",
   "version": "3.8.13 (default, Oct  4 2022, 14:00:32) \n[GCC 9.4.0]"
  },
  "vscode": {
   "interpreter": {
    "hash": "9ac03a0a6051494cc606d484d27d20fce22fb7b4d169f583271e11d5ba46a56e"
   }
  }
 },
 "nbformat": 4,
 "nbformat_minor": 1
}
