{
 "cells": [
  {
   "cell_type": "markdown",
   "metadata": {},
   "source": [
    "# Lab 4a\n",
    "## Nested Conditionals\n",
    "\n",
    "-----\n",
    "\n",
    "### Student will be able to\n",
    "- Create nested conditional logic in code  \n",
    "- Print format print using escape sequence (**\\**)"
   ]
  },
  {
   "cell_type": "markdown",
   "metadata": {},
   "source": [
    "## Tasks"
   ]
  },
  {
   "cell_type": "code",
   "execution_count": 1,
   "metadata": {
    "collapsed": false
   },
   "outputs": [
    {
     "name": "stdout",
     "output_type": "stream",
     "text": [
      "The new line character is \"\\n\"\n"
     ]
    }
   ],
   "source": [
    "# [ ] print a string that outputs the following exactly: The new line character is \"\\n\"\n",
    "print(\"The new line character is \\\"\\\\n\\\"\")\n"
   ]
  },
  {
   "cell_type": "code",
   "execution_count": 2,
   "metadata": {
    "collapsed": false
   },
   "outputs": [
    {
     "name": "stdout",
     "output_type": "stream",
     "text": [
      "\"That's how we escape!\"\n"
     ]
    }
   ],
   "source": [
    "# [ ] print output that is exactly (with quotes): \"That's how we escape!\"\n",
    "print(\"\\\"That\\'s how we escape!\\\"\")\n"
   ]
  },
  {
   "cell_type": "code",
   "execution_count": 4,
   "metadata": {
    "collapsed": false
   },
   "outputs": [
    {
     "name": "stdout",
     "output_type": "stream",
     "text": [
      "  1\tone\n",
      " 22\ttwo\n",
      "333\tthree\n"
     ]
    }
   ],
   "source": [
    "# [ ] with only 1 print statement and using No Space Characters, output the text commented below  \n",
    "\n",
    "# 1       one\n",
    "# 22      two\n",
    "# 333     three\n",
    "print(\"  1\\tone\\n 22\\ttwo\\n333\\tthree\")\n"
   ]
  },
  {
   "cell_type": "markdown",
   "metadata": {},
   "source": [
    "## Program: quote_me() Function\n",
    "quote_me takes a string argument and returns a string that will display surrounded with **added double quotes** if printed  \n",
    "- Check if the passed string starts with a double quotation mark (`\"\\\"\"`).\n",
    "- If it does, then surround the string with single quotation marks \n",
    "- If the passed string starts with a single quotation mark, or it if doesn't start with a quotation mark, then surround it with double quotation marks.\n",
    "\n",
    "Test the function code passing string input as the argument to quote_me(). "
   ]
  },
  {
   "cell_type": "code",
   "execution_count": 12,
   "metadata": {
    "collapsed": false
   },
   "outputs": [
    {
     "name": "stdout",
     "output_type": "stream",
     "text": [
      "\"\" wow \"\"\n"
     ]
    }
   ],
   "source": [
    "# [ ] create and test quote_me()\n",
    "def quote_me(phrase):\n",
    "    if phrase.startswith(\"\\\"\") and phrase.startswith(\"\\\"\\\"\") != True:\n",
    "        print(\" \",phrase,\"\\\"\")\n",
    "    else:\n",
    "        print(\"\\\"\\\"\",phrase,\"\\\"\\\"\")\n",
    "phrase = input()\n",
    "quote_me(phrase)\n",
    "\n"
   ]
  },
  {
   "cell_type": "markdown",
   "metadata": {},
   "source": [
    "## Program: shirt order \n",
    "First get input for color and size: \n",
    "- White has sizes L, M \n",
    "- Blue has sizes M, S  \n",
    "\n",
    "Print available or unavailable, then print the order confirmation of color and size.  \n",
    "\n",
    "**Hint**: set a variable \"available = False\" before nested if statements \n",
    "and change to True if color and size are available."
   ]
  },
  {
   "cell_type": "code",
   "execution_count": 24,
   "metadata": {
    "collapsed": false
   },
   "outputs": [
    {
     "name": "stdout",
     "output_type": "stream",
     "text": [
      "A M white shirt is available\n"
     ]
    }
   ],
   "source": [
    "# [ ] create shirt order using nested if \n",
    "colour = input(\"select a colour: \")\n",
    "size = input(\"select a size L, M or S: \")\n",
    "available = False\n",
    "if colour.lower() == \"white\":\n",
    "    if size.lower() == \"l\":\n",
    "        available = True\n",
    "    elif size.lower() == \"m\":\n",
    "        available = True\n",
    "elif colour.lower() == \"Blue\":\n",
    "    if size.lower() == \"m\":\n",
    "        available = True\n",
    "    elif size.lower() == \"l\":\n",
    "        available = True\n",
    "if available == False:\n",
    "    print(\"That colour and size combination is unavailable\")\n",
    "else:\n",
    "    print(\"A\",size.upper(),colour,\"shirt is available\")"
   ]
  },
  {
   "cell_type": "markdown",
   "metadata": {},
   "source": [
    "## Program: str_analysis() Function\n",
    "Create the str_analysis() function that takes a string argument.  In the body of the function:\n",
    "- Check `if` string is digits  \n",
    "  - If digits: convert to `int` and check `if` greater than 99  \n",
    "    - If greater than 99 print a message about a \"big number\"  \n",
    "    - If not greater than 99 print message about small number  \n",
    "  - If not digits: check if string isalpha\n",
    "    - If isalpha print message about being all alpha\n",
    "    - If not isalpha print a message about being neither all alpha nor all digit  \n",
    "    \n",
    "Call the function with a string from user input. "
   ]
  },
  {
   "cell_type": "code",
   "execution_count": 29,
   "metadata": {
    "collapsed": false
   },
   "outputs": [
    {
     "name": "stdout",
     "output_type": "stream",
     "text": [
      "The string is not all alphanumeric\n"
     ]
    }
   ],
   "source": [
    "# [ ] create and test str_analysis()\n",
    "def str_analysis(phrase):\n",
    "    if phrase.isnumeric():\n",
    "        if int(phrase) > 99:\n",
    "            print(\"Big number\")\n",
    "        else:\n",
    "            print(\"Small number\")\n",
    "    elif phrase.isalpha():\n",
    "        print(\"All letters are alphanumeric\")\n",
    "    else:\n",
    "        print(\"The string is not all alphanumeric\")\n",
    "phrase = input()\n",
    "str_analysis(phrase)\n",
    "\n",
    "\n"
   ]
  },
  {
   "cell_type": "markdown",
   "metadata": {
    "collapsed": true
   },
   "source": [
    "## Program: ticket_check() - finds out if a seat is available  \n",
    "Call ticket_check() function with 2 arguments: *section* and *seats* requested and return True or False  \n",
    "- **section** is a string and expects: general, floor\n",
    "- **seats** is an integer and expects: 1 - 10  \n",
    "\n",
    "Check for valid section and seats:\n",
    "- If section is *general* (or use startswith \"g\")  \n",
    "  - If seats is 1-10 return True \n",
    "- If section is *floor* (or use starts with \"f\")\n",
    "  - If seats is 1-4 return True  \n",
    "\n",
    "Otherwise return False."
   ]
  },
  {
   "cell_type": "code",
   "execution_count": 35,
   "metadata": {
    "collapsed": false
   },
   "outputs": [
    {
     "name": "stdout",
     "output_type": "stream",
     "text": [
      "Current unavailable to book in that section with that amount of seats\n"
     ]
    }
   ],
   "source": [
    "# [ ] create and call ticket_check()\n",
    "available = False\n",
    "def ticket_check(section, seats):\n",
    "    if section.lower() == \"general\":\n",
    "        if  int(seats) >= 1 and int(seats) <= 10:\n",
    "           available = True \n",
    "    elif section.lower() == \"floor\":\n",
    "        if  int(seats) >= 1 and int(seats) <= 4:\n",
    "           available = True\n",
    "section = input(\"what section: general or floor\")\n",
    "seats = input(\"how many seats: 1-10\")\n",
    "ticket_check(section, seats)\n",
    "if available == True:\n",
    "    print(\"You have booked\",seats,\"in the\",section,\"section\")\n",
    "else:\n",
    "    print(\"Current unavailable to book in that section with that amount of seats\")\n",
    "    \n",
    "\n",
    "\n",
    "\n"
   ]
  },
  {
   "cell_type": "markdown",
   "metadata": {
    "collapsed": true
   },
   "source": [
    "[Terms of use](http://go.microsoft.com/fwlink/?LinkID=206977) &nbsp; [Privacy & cookies](https://go.microsoft.com/fwlink/?LinkId=521839) &nbsp; © 2017 Microsoft"
   ]
  }
 ],
 "metadata": {
  "anaconda-cloud": {},
  "kernelspec": {
   "display_name": "Python 3",
   "language": "python",
   "name": "python3"
  },
  "language_info": {
   "codemirror_mode": {
    "name": "ipython",
    "version": 3
   },
   "file_extension": ".py",
   "mimetype": "text/x-python",
   "name": "python",
   "nbconvert_exporter": "python",
   "pygments_lexer": "ipython3",
   "version": "3.8.13 (default, Oct  4 2022, 14:00:32) \n[GCC 9.4.0]"
  },
  "vscode": {
   "interpreter": {
    "hash": "9ac03a0a6051494cc606d484d27d20fce22fb7b4d169f583271e11d5ba46a56e"
   }
  }
 },
 "nbformat": 4,
 "nbformat_minor": 1
}
