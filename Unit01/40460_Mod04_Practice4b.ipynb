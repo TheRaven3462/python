{
  "cells": [
    {
      "cell_type": "markdown",
      "metadata": {},
      "source": [
        "# Lab 4b\n",
        "## `while()` Loops and Increments\n",
        "\n",
        "-----\n",
        "\n",
        "### Student will be able to\n",
        "- Create forever loops using `while` and `break`\n",
        "- Use incrementing variables in a while loop\n",
        "- Control while loops using Boolean operators"
      ]
    },
    {
      "cell_type": "markdown",
      "metadata": {},
      "source": [
        "## Tasks"
      ]
    },
    {
      "cell_type": "code",
      "execution_count": 5,
      "metadata": {
        "trusted": false
      },
      "outputs": [
        {
          "name": "stdout",
          "output_type": "stream",
          "text": [
            "You can add another number\n",
            "You can add another number\n",
            "You can add another number\n",
            "Your record is 17\n"
          ]
        }
      ],
      "source": [
        "# [ ] use a \"forever\" while loop to get user input of integers to add to sum, \n",
        "# until a non-digit is entered, then break the loop and print sum\n",
        "sum = 0\n",
        "\n",
        "while str(sum).isnumeric():\n",
        "    user = input('Enter a number')\n",
        "    if str(user).isnumeric():\n",
        "        sum += int(user)\n",
        "        print('You can add another number')\n",
        "    else:\n",
        "        break\n",
        "print(\"Your record is\",sum)"
      ]
    },
    {
      "cell_type": "code",
      "execution_count": 10,
      "metadata": {
        "trusted": false
      },
      "outputs": [
        {
          "name": "stdout",
          "output_type": "stream",
          "text": [
            "You still couldn't guess a colour of the rainbow after 4 chances\n"
          ]
        }
      ],
      "source": [
        "# [ ] use a while True loop (forever loop) to give 4 chances for input of a correct color in a rainbow\n",
        "# rainbow = \"red orange yellow green blue indigo violet\"\n",
        "count = 0\n",
        "while count < 4:\n",
        "    user = input(\"What is a colour of the rainbow: \")\n",
        "    if user.lower() == \"red\" or user.lower() == \"orange\" or user.lower() == \"yellow\"or user.lower() == \"green\" or user.lower() == \"blue\"or user.lower() == \"indigo\" or user.lower() == \"violet\":\n",
        "        count += 1\n",
        "        break\n",
        "    else:\n",
        "        count += 1\n",
        "if count < 4:\n",
        "    print(\"It took you\",count,\"guess to guess a correct colour of the rainbow\")\n",
        "else:\n",
        "    print(\"You still couldn't guess a colour of the rainbow after 4 chances\")\n",
        "\n"
      ]
    },
    {
      "cell_type": "code",
      "execution_count": 15,
      "metadata": {
        "trusted": false
      },
      "outputs": [
        {
          "name": "stdout",
          "output_type": "stream",
          "text": [
            "Please capitalise the first letter of each word\n",
            "Horimiya The Second\n"
          ]
        }
      ],
      "source": [
        "# [ ] Get input for a book title, keep looping while input is Not in title format (title is every word capitalized)\n",
        "title = \"\"\n",
        "while title.istitle() != True:\n",
        "    title = input(\"Enter a book title: \")\n",
        "    if title.istitle() == True:\n",
        "        break\n",
        "    else:\n",
        "        print(\"Please capitalise the first letter of each word\")\n",
        "print(title)\n",
        "\n",
        "\n"
      ]
    },
    {
      "cell_type": "code",
      "execution_count": 2,
      "metadata": {
        "trusted": false
      },
      "outputs": [
        {
          "name": "stdout",
          "output_type": "stream",
          "text": [
            "Try again\n",
            "Try again\n",
            "moron\n"
          ]
        }
      ],
      "source": [
        "# [ ] create a math quiz question and ask for the solution until the input is correct\n",
        "answer = 5\n",
        "user = 0\n",
        "while str(user).isnumeric() == True:\n",
        "    user = input(\"What is the cube root of 125: \")\n",
        "    if int(user) == answer:\n",
        "        print('test')\n",
        "        break\n",
        "    elif user == \"exit\":\n",
        "        break\n",
        "    else:\n",
        "        print(\"Try again\")"
      ]
    },
    {
      "cell_type": "markdown",
      "metadata": {},
      "source": [
        "## Fix the Error"
      ]
    },
    {
      "cell_type": "code",
      "execution_count": 25,
      "metadata": {
        "trusted": false
      },
      "outputs": [
        {
          "name": "stdout",
          "output_type": "stream",
          "text": [
            "sorry, not a winner.\n",
            "sorry, not a winner.\n",
            "you win!\n",
            "Game ended\n"
          ]
        }
      ],
      "source": [
        "# [ ] review the code, run, fix the error\n",
        "tickets = input(\"enter tickets remaining (0 to quit): \")\n",
        "\n",
        "while int(tickets) > 0:\n",
        "        # if tickets are multiple of 3 then \"winner\"\n",
        "    if int(tickets) % 3 == 0:\n",
        "        print(\"you win!\")\n",
        "        break\n",
        "    elif int(tickets) ==0:\n",
        "        break\n",
        "    else:\n",
        "        print(\"sorry, not a winner.\")\n",
        "    tickets = int(input(\"enter tickets remaining (0 to quit): \"))\n",
        "\n",
        "print(\"Game ended\")\n",
        "    \n"
      ]
    },
    {
      "cell_type": "markdown",
      "metadata": {},
      "source": [
        "## Create a function: quiz_item()  that asks a question and tests if input is correct  \n",
        "- quiz_item()has 2 parameter **strings**: question and solution  \n",
        "- shows question, gets answer input  \n",
        "- returns True if `answer == solution` or continues to ask question until correct answer is provided  \n",
        "- use a while loop\n",
        "\n",
        "create 2 or more quiz questions that call quiz_item()  \n",
        "**Hint**: provide multiple choice or T/F answers"
      ]
    },
    {
      "cell_type": "code",
      "execution_count": 2,
      "metadata": {
        "trusted": false
      },
      "outputs": [
        {
          "name": "stdout",
          "output_type": "stream",
          "text": [
            "What is 1 + 1: \n",
            "you said: 2\n",
            "What is 2 + 1: \n",
            "you said: 3\n"
          ]
        },
        {
          "data": {
            "text/plain": [
              "True"
            ]
          },
          "execution_count": 2,
          "metadata": {},
          "output_type": "execute_result"
        }
      ],
      "source": [
        "# Create quiz_item() and 2 or more quiz questions that call quiz_item()\n",
        "def quiz_item(question, solution):\n",
        "    answer = ''\n",
        "    while answer != str(solution):\n",
        "        answer = input(\"What is your answer: \")\n",
        "        print(\"you said:\",answer)\n",
        "        if int(answer) == solution:\n",
        "            return True\n",
        "    \n",
        "\n",
        "question = \"What is 1 + 1: \"\n",
        "print(question)\n",
        "solution = 2\n",
        "quiz_item(question, solution)\n",
        "\n",
        "\n",
        "question = \"What is 2 + 1: \"\n",
        "print(question)\n",
        "solution = 3 \n",
        "quiz_item(question, solution)\n",
        "    "
      ]
    },
    {
      "cell_type": "markdown",
      "metadata": {
        "collapsed": true
      },
      "source": [
        "[Terms of use](http://go.microsoft.com/fwlink/?LinkID=206977) &nbsp; [Privacy & cookies](https://go.microsoft.com/fwlink/?LinkId=521839) &nbsp; © 2017 Microsoft"
      ]
    }
  ],
  "metadata": {
    "anaconda-cloud": {},
    "kernelspec": {
      "display_name": "Python 3",
      "language": "python",
      "name": "python3"
    },
    "language_info": {
      "codemirror_mode": {
        "name": "ipython",
        "version": 3
      },
      "file_extension": ".py",
      "mimetype": "text/x-python",
      "name": "python",
      "nbconvert_exporter": "python",
      "pygments_lexer": "ipython3",
      "version": "3.8.13 (default, Oct  4 2022, 14:00:32) \n[GCC 9.4.0]"
    },
    "vscode": {
      "interpreter": {
        "hash": "9ac03a0a6051494cc606d484d27d20fce22fb7b4d169f583271e11d5ba46a56e"
      }
    }
  },
  "nbformat": 4,
  "nbformat_minor": 1
}
