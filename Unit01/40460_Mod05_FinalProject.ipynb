{
  "cells": [
    {
      "cell_type": "markdown",
      "metadata": {
        "collapsed": true
      },
      "source": [
        "#  Final Project Required Coding Activity  \n",
        "Course 40460: Introduction to Python, Unit 1 \n",
        "\n",
        "The activity is based on Modules 1 - 4 and is similar to the Jupyter Notebooks for Module 4 practice, which you may have completed.\n",
        "\n",
        "| Some Assignment Requirements |\n",
        "|:-------------------------------|\n",
        "|This program requires the use of<ul><li>**`while`** loop</li><li>**`if, elif, else`**</li><li>**`if,else`** (nested)</li><li>**casting** of type,  between strings and numbers</li></ul><br/>The program should **only** use code syntax covered in modules 1 - 4.<br/><br/>The program must result in print output using the numeric input, similar to that shown in the samples displaying \"Items\" and \"Total\".  |\n",
        "\n",
        "\n",
        "## Program: `adding_report()` function  \n",
        "This program calls the adding_report() function which repeatedly takes positive integer input until the user quits and then sums the integers and prints a \"report\".    \n",
        "The **adding_report()** function has 1 string parameter which indicates the type of report:  \n",
        "- \"A\" used as the argument to adding_report() results in printing of all of the input integers and the total  \n",
        "- \"T\" used as the argument results in printing only the total   \n",
        "\n",
        "#### Sample input and output:  \n",
        "call adding_report() with \"A\" as argument (print all the integers entered and the total)  \n",
        "```\n",
        "Input an integer to add to the total or \"Q\" to quit\n",
        "Enter an integer or \"Q\"): 3\n",
        "Enter an integer or \"Q\"): 6\n",
        "Enter an integer or \"Q\"): 24\n",
        "Enter an integer or \"Q\"): 17\n",
        "Enter an integer or \"Q\"): 61\n",
        "Enter an integer or \"Q\"): nine\n",
        "nine is invalid input\n",
        "Enter an integer or \"Q\"): q\n",
        "\n",
        "Items\n",
        "3\n",
        "6\n",
        "24\n",
        "17\n",
        "61\n",
        "\n",
        "Total\n",
        " 111\n",
        "```  \n",
        "\n",
        "call with \"T\"(print only the total)  \n",
        "```\n",
        "Input an integer to add to the total or \"Q\" to quit\n",
        "Enter an integer or \"Q\": 5\n",
        "Enter an integer or \"Q\": 7\n",
        "Enter an integer or \"Q\": Quit\n",
        "\n",
        "Total\n",
        " 12\n",
        "```  \n",
        "\n",
        "### The forever (while True) loop diagram  \n",
        "This diagram represents only part of the assignment - it is the loop and nested if statements inside the function.  The code will enter at the while True loop after initializing variables.  \n",
        "\n",
        "![image of while True Loop with nested if statements described in bulleted text above](https://iajupyterprodblobs.blob.core.windows.net/imagecontainer/adding_report_loop_sketch.png)\n",
        "\n",
        "### Additional Details\n",
        "  \n",
        "- initialize `total` variable which will sum integer values entered  \n",
        "- initialize `items` variable which will build a string of the integer inputs separated with a *new line character*  \n",
        "- define the `adding_report` function with one parameter `report` that will be a string with default of \"T\"  \n",
        "- inside the function build a forever loop (infinite while loop) and inside the loop complete the following  \n",
        "  - use a variable to gather input (integer or \"Q\")  \n",
        "  - check if the input string is a digit (integer) and if it is...  \n",
        "    - add input iteger to total  \n",
        "    - if report type is \"A\" add the numeric character(s) to the item string seperated by a new line  \n",
        "  - if not a digit, check if the input string is \"Q\" or starts with a \"Q\", **if \"Q\"** then...  \n",
        "    - if the report type is \"A\" print out all the integer items entered and the sum total  \n",
        "    - if report type is \"T\" then print out the sum total only  \n",
        "    - `break` out of while loop to end the function after printing the report (\"A\" or \"T\") \n",
        "  - if not a digit and if not a \"Q\" then print a message that the \"input is invalid\"  \n",
        "\n",
        "- Call the `adding_report` function with \"A\" and then with \"T\" report parameters  \n",
        "- Run and test your code before submitting"
      ]
    },
    {
      "cell_type": "code",
      "execution_count": 1,
      "metadata": {
        "collapsed": true,
        "trusted": false
      },
      "outputs": [
        {
          "name": "stdout",
          "output_type": "stream",
          "text": [
            "Input an integer to add to total or \"Q\" to quit:\n",
            "Enter an integer or \"Q\": 1\n"
          ]
        },
        {
          "ename": "TypeError",
          "evalue": "int() argument must be a string, a bytes-like object or a number, not 'list'",
          "output_type": "error",
          "traceback": [
            "\u001b[0;31m---------------------------------------------------------------------------\u001b[0m",
            "\u001b[0;31mTypeError\u001b[0m                                 Traceback (most recent call last)",
            "Cell \u001b[0;32mIn [1], line 31\u001b[0m\n\u001b[1;32m     29\u001b[0m \u001b[39mprint\u001b[39m(\u001b[39m\"\u001b[39m\u001b[39mInput an integer to add to total or \u001b[39m\u001b[39m\\\"\u001b[39;00m\u001b[39mQ\u001b[39m\u001b[39m\\\"\u001b[39;00m\u001b[39m to quit:\u001b[39m\u001b[39m\"\u001b[39m)\n\u001b[1;32m     30\u001b[0m report_type \u001b[39m=\u001b[39m \u001b[39minput\u001b[39m(\u001b[39m\"\u001b[39m\u001b[39mPlease select to see full statement or just total: (A/T)\u001b[39m\u001b[39m\"\u001b[39m)\u001b[39m.\u001b[39mlower()\n\u001b[0;32m---> 31\u001b[0m adding_report(items, report_type)\n",
            "Cell \u001b[0;32mIn [1], line 11\u001b[0m, in \u001b[0;36madding_report\u001b[0;34m(items, report_type)\u001b[0m\n\u001b[1;32m      9\u001b[0m \u001b[39mif\u001b[39;00m Q\u001b[39m.\u001b[39misnumeric():\n\u001b[1;32m     10\u001b[0m     \u001b[39mif\u001b[39;00m report_type \u001b[39m==\u001b[39m \u001b[39m\"\u001b[39m\u001b[39ma\u001b[39m\u001b[39m\"\u001b[39m:\n\u001b[0;32m---> 11\u001b[0m         \u001b[39mint\u001b[39;49m(items)\u001b[39m.\u001b[39mappend(Q)\n\u001b[1;32m     13\u001b[0m \u001b[39melif\u001b[39;00m Q\u001b[39m.\u001b[39mlower() \u001b[39m==\u001b[39m \u001b[39m\"\u001b[39m\u001b[39mq\u001b[39m\u001b[39m\"\u001b[39m:\n\u001b[1;32m     14\u001b[0m     \u001b[39mprint\u001b[39m(\u001b[39m\"\u001b[39m\u001b[39mIt should be quiting!\u001b[39m\u001b[39m\"\u001b[39m, report_type)\n",
            "\u001b[0;31mTypeError\u001b[0m: int() argument must be a string, a bytes-like object or a number, not 'list'"
          ]
        }
      ],
      "source": [
        "# [ ] create, call and test the adding_report() function\n",
        "# Adding report Function has a defalut argument of \"T\" (Total only), But also expects \"A\" (All entries and total)\n",
        "items = []\n",
        "total = 0\n",
        "def adding_report(items, report_type):\n",
        "    while True:\n",
        "        Q = input(\"Please enter an integer or \\\"Q\\\" to exit: \")\n",
        "        print(\"Enter an integer or \\\"Q\\\":\",Q)\n",
        "        if Q.isnumeric():\n",
        "            if report_type == \"a\":\n",
        "                int(items).append(Q)\n",
        "\n",
        "        elif Q.lower() == \"q\":\n",
        "            print(\"It should be quiting!\", report_type)\n",
        "            if report_type == \"a\":\n",
        "                print(*report, sep = \"\\n\")\n",
        "                print(\"Total\\n\",sum(items))\n",
        "                print(\"Breaking\")\n",
        "                break\n",
        "\n",
        "            elif report_type == \"t\":\n",
        "                print(\"Total\\n\",sum(items))\n",
        "                print(\"Breaking\")\n",
        "                break\n",
        "\n",
        "        else:\n",
        "            print(\"Input is invalid:\",Q)   \n",
        "        \n",
        "print(\"Input an integer to add to total or \\\"Q\\\" to quit:\")\n",
        "report_type = input(\"Please select to see full statement or just total: (A/T)\").lower()\n",
        "adding_report(items, report_type)\n",
        "\n",
        "        \n"
      ]
    },
    {
      "cell_type": "markdown",
      "metadata": {},
      "source": [
        "[Terms of use](http://go.microsoft.com/fwlink/?LinkID=206977) &nbsp; [Privacy & cookies](https://go.microsoft.com/fwlink/?LinkId=521839) &nbsp; © 2017 Microsoft"
      ]
    }
  ],
  "metadata": {
    "kernelspec": {
      "display_name": "Python 3",
      "language": "python",
      "name": "python3"
    },
    "language_info": {
      "codemirror_mode": {
        "name": "ipython",
        "version": 3
      },
      "file_extension": ".py",
      "mimetype": "text/x-python",
      "name": "python",
      "nbconvert_exporter": "python",
      "pygments_lexer": "ipython3",
      "version": "3.8.13"
    },
    "vscode": {
      "interpreter": {
        "hash": "9ac03a0a6051494cc606d484d27d20fce22fb7b4d169f583271e11d5ba46a56e"
      }
    }
  },
  "nbformat": 4,
  "nbformat_minor": 1
}
