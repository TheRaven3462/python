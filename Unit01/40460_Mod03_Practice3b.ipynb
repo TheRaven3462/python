{
 "cells": [
  {
   "cell_type": "markdown",
   "metadata": {},
   "source": [
    "# Lab 3b  \n",
    "## Conditionals, Type, and Mathematics Extended   \n",
    "\n",
    "-----\n",
    "\n",
    "### Student will be able to\n",
    "- Code more than two choices using **`elif`**\n",
    "- Gather numeric input using type casting\n",
    "- Perform subtraction, multiplication and division operations in code  "
   ]
  },
  {
   "cell_type": "markdown",
   "metadata": {},
   "source": [
    "## Tasks"
   ]
  },
  {
   "cell_type": "markdown",
   "metadata": {
    "collapsed": false
   },
   "source": [
    "### Rainbow colors\n",
    "Ask for input of a favorite rainbow color first letter: ROYGBIV.\n",
    "\n",
    "Using `if`, `elif`, and `else`:  \n",
    "- Print the color matching the letter  \n",
    "    - R = Red  \n",
    "    - O = Orange  \n",
    "    - Y = Yellow  \n",
    "    - G = Green\n",
    "    - B = Blue\n",
    "    - I = Indigo\n",
    "    - V = Violet\n",
    "    - Else print \"no match\"\n"
   ]
  },
  {
   "cell_type": "code",
   "execution_count": 5,
   "metadata": {
    "collapsed": false
   },
   "outputs": [
    {
     "name": "stdout",
     "output_type": "stream",
     "text": [
      "Red\n"
     ]
    }
   ],
   "source": [
    "# [ ] complete rainbow colors\n",
    "colou = input('What is your favourite colour of the rainbow first letter: ')\n",
    "colour = colou.lower()\n",
    "if colour == 'r':\n",
    "    print('Red')\n",
    "elif colour == 'o':\n",
    "    print('Orange')\n",
    "elif colour == 'y':\n",
    "    print('Yellow')\n",
    "elif colour == 'g':\n",
    "    print('Green')\n",
    "elif colour == 'b':\n",
    "    print('Blue')\n",
    "elif colour == 'i':\n",
    "    print('Indigo')\n",
    "elif colour == 'v':\n",
    "    print('Violet')\n",
    "else:\n",
    "    print('Arre you sure that colour is in the rainbow')"
   ]
  },
  {
   "cell_type": "code",
   "execution_count": 6,
   "metadata": {
    "collapsed": false
   },
   "outputs": [
    {
     "name": "stdout",
     "output_type": "stream",
     "text": [
      "Blue\n"
     ]
    }
   ],
   "source": [
    "# [ ] make the code above into a function rainbow_color() that has a string parameter, \n",
    "# get input and call the function and return the \n",
    "def rainbow_colour(colour):\n",
    "    if colour == 'r':\n",
    "        print('Red')\n",
    "    elif colour == 'o':\n",
    "        print('Orange')\n",
    "    elif colour == 'y':\n",
    "        print('Yellow')\n",
    "    elif colour == 'g':\n",
    "        print('Green')\n",
    "    elif colour == 'b':\n",
    "        print('Blue')\n",
    "    elif colour == 'i':\n",
    "        print('Indigo')\n",
    "    elif colour == 'v':\n",
    "        print('Violet')\n",
    "    else:\n",
    "        print('Arre you sure that colour is in the rainbow')\n",
    "colou = input('What is your favourite colour of the rainbow first letter: ')\n",
    "colour = colou.lower()\n",
    "rainbow_colour(colour)"
   ]
  },
  {
   "cell_type": "markdown",
   "metadata": {},
   "source": [
    "# &nbsp;  \n",
    "**Create function age_20() that adds or subtracts 20 from your age for a return value based on current age** (use `if`) \n",
    "- Call the function with user input and then use the return value in a sentence  \n",
    "Example `age_20(25)` returns **5**: \n",
    "> \"5 years old, 20 years difference from now\""
   ]
  },
  {
   "cell_type": "code",
   "execution_count": 17,
   "metadata": {
    "collapsed": false
   },
   "outputs": [
    {
     "name": "stdout",
     "output_type": "stream",
     "text": [
      "5 years old, 20 years difference from now\n"
     ]
    }
   ],
   "source": [
    "# [ ] complete age_20()\n",
    "def age_20(age):\n",
    "    if int(age) > 20 and int(age) != 21:\n",
    "        print(str(int(age) - 20),'years old, 20 years difference from now')\n",
    "    elif int(age) <= 20:\n",
    "        print(str(int(age) + 20),'years old, 20 years difference from now')\n",
    "    elif int(age) > 20:\n",
    "        print(str(int(age) - 20),'year old, 20 years difference from now')\n",
    "age = input()\n",
    "age_20(age)    "
   ]
  },
  {
   "cell_type": "markdown",
   "metadata": {},
   "source": [
    "**Create a function rainbow_or_age that takes a string argument**\n",
    "- If argument is a digit return the value of calling age_20() with the str value cast as **`int`** \n",
    "- If argument is an alphabetical character return the value of calling rainbow_color() with the str\n",
    "- If neither return FALSE"
   ]
  },
  {
   "cell_type": "code",
   "execution_count": 26,
   "metadata": {
    "collapsed": false
   },
   "outputs": [
    {
     "name": "stdout",
     "output_type": "stream",
     "text": [
      "22 years old, 20 years difference from now\n"
     ]
    }
   ],
   "source": [
    "# [ ]  create rainbow_or_age()\n",
    "cause = input()\n",
    "if cause.isalpha() == True and cause.isnumeric() == False:\n",
    "    def rainbow_colour(cause):\n",
    "        if cause == 'r':\n",
    "            print('Red')\n",
    "        elif cause == 'o':\n",
    "            print('Orange')\n",
    "        elif cause == 'y':\n",
    "            print('Yellow')\n",
    "        elif cause == 'g':\n",
    "            print('Green')\n",
    "        elif cause == 'b':\n",
    "            print('Blue')\n",
    "        elif cause == 'i':\n",
    "            print('Indigo')\n",
    "        elif cause == 'v':\n",
    "            print('Violet')\n",
    "        else:\n",
    "            print('Are you sure that colour is in the rainbow')\n",
    "    rainbow_colour(cause)\n",
    "elif cause.isnumeric() == True:\n",
    "    def age_20(cause):\n",
    "        if int(cause) > 20 and int(cause) != 21:\n",
    "            print(str(int(cause) - 20),'years old, 20 years difference from now')\n",
    "        elif int(cause) <= 20:\n",
    "            print(str(int(cause) + 20),'years old, 20 years difference from now')\n",
    "        elif int(cause) > 20:\n",
    "            print(str(int(cause) - 20),'year old, 20 years difference from now')\n",
    "    age_20(cause)\n",
    "else:\n",
    "    print('What are you doing with your life')\n"
   ]
  },
  {
   "cell_type": "code",
   "execution_count": 29,
   "metadata": {
    "collapsed": false
   },
   "outputs": [
    {
     "name": "stdout",
     "output_type": "stream",
     "text": [
      "11\n"
     ]
    }
   ],
   "source": [
    "# [ ]  add 2 numbers from input using a cast to integer and display the answer \n",
    "input1 = int(input('First number: '))\n",
    "input2 = int(input('second number: '))\n",
    "print(input1 + input2)"
   ]
  },
  {
   "cell_type": "code",
   "execution_count": 28,
   "metadata": {
    "collapsed": false
   },
   "outputs": [
    {
     "name": "stdout",
     "output_type": "stream",
     "text": [
      "The answer is 20\n"
     ]
    }
   ],
   "source": [
    "# [ ] Multiply 2 numbers from input using cast and save the answer as part of a string \"the answer is...\"\n",
    "# display the string using print\n",
    "input1 = input('First number: ')\n",
    "input2 = input('second number: ')\n",
    "print('The answer is', str(int(input1) * int(input2)))\n"
   ]
  },
  {
   "cell_type": "code",
   "execution_count": 30,
   "metadata": {
    "collapsed": false
   },
   "outputs": [
    {
     "name": "stdout",
     "output_type": "stream",
     "text": [
      "The answer is 6.0\n"
     ]
    }
   ],
   "source": [
    "# [ ] get input of 2 numbers and display the average: (num1 + num2) divided by 2\n",
    "input1 = input('First number: ')\n",
    "input2 = input('second number: ')\n",
    "print('The answer is', str((int(input1) + int(input2))/2))\n"
   ]
  },
  {
   "cell_type": "code",
   "execution_count": 32,
   "metadata": {
    "collapsed": false
   },
   "outputs": [
    {
     "name": "stdout",
     "output_type": "stream",
     "text": [
      "4\n"
     ]
    }
   ],
   "source": [
    "# [ ] get input of 2 numbers and subtract the largest from the smallest (use an if statement to see which is larger)\n",
    "# show the answer\n",
    "input1 = int(input('First number: '))\n",
    "input2 = int(input('second number: '))\n",
    "if input1 > input2:\n",
    "    print(input1 - input2)\n",
    "else:\n",
    "    print(input2 - input1)"
   ]
  },
  {
   "cell_type": "code",
   "execution_count": 37,
   "metadata": {
    "collapsed": false
   },
   "outputs": [
    {
     "name": "stdout",
     "output_type": "stream",
     "text": [
      "0\n"
     ]
    }
   ],
   "source": [
    "# [ ] Divide a larger number by a smaller number and print the integer part of the result\n",
    "# don't divide by zero! if a zero is input make the result zero\n",
    "# [ ] cast the answer to an integer to cut off the decimals and print the result\n",
    "input1 = int(input('First number: '))\n",
    "input2 = int(input('second number: '))\n",
    "if input1 > input2 and input2 != 0:\n",
    "    print(input1 / input2)\n",
    "elif input1 < input2 and input1 != 0:\n",
    "    print(input2 / input1)\n",
    "else:\n",
    "    print(0)\n"
   ]
  },
  {
   "cell_type": "markdown",
   "metadata": {},
   "source": [
    "[Terms of use](http://go.microsoft.com/fwlink/?LinkID=206977) &nbsp; [Privacy & cookies](https://go.microsoft.com/fwlink/?LinkId=521839) &nbsp; © 2017 Microsoft"
   ]
  }
 ],
 "metadata": {
  "anaconda-cloud": {},
  "kernelspec": {
   "display_name": "Python 3",
   "language": "python",
   "name": "python3"
  },
  "language_info": {
   "codemirror_mode": {
    "name": "ipython",
    "version": 3
   },
   "file_extension": ".py",
   "mimetype": "text/x-python",
   "name": "python",
   "nbconvert_exporter": "python",
   "pygments_lexer": "ipython3",
   "version": "3.8.13"
  },
  "vscode": {
   "interpreter": {
    "hash": "110cc1dee26208153f2972f08a2ad52b6a56238dc66d48e87fb757ef2996db56"
   }
  }
 },
 "nbformat": 4,
 "nbformat_minor": 1
}
